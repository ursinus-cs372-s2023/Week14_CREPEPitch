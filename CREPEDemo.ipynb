{
 "cells": [
  {
   "cell_type": "code",
   "execution_count": null,
   "id": "da575043",
   "metadata": {},
   "outputs": [],
   "source": [
    "!pip install torchcrepe\n",
    "!wget https://github.com/ursinus-cs372-s2023/HW6_StringAlong/raw/main/adele.wav"
   ]
  },
  {
   "cell_type": "code",
   "execution_count": null,
   "id": "2888672f",
   "metadata": {},
   "outputs": [],
   "source": [
    "import numpy as np\n",
    "import matplotlib.pyplot as plt\n",
    "import IPython.display as ipd\n",
    "import torchcrepe # https://github.com/maxrmorrison/torchcrepe\n",
    "import torch\n",
    "from torch import nn\n",
    "from torch.utils.data import Dataset, DataLoader\n",
    "from scipy import signal\n",
    "import librosa\n",
    "import time\n",
    "from scipy.io import wavfile\n",
    "\n",
    "device = 'cuda:0'"
   ]
  },
  {
   "cell_type": "markdown",
   "id": "db8eadec",
   "metadata": {},
   "source": [
    "## Sonify Adele"
   ]
  },
  {
   "cell_type": "code",
   "execution_count": null,
   "id": "30f8a8db",
   "metadata": {},
   "outputs": [],
   "source": [
    "sr = 16000\n",
    "hop_length = 64\n",
    "x, _ = librosa.load(\"adele.wav\", sr=sr)\n",
    "\n",
    "\n",
    "fmin = 50\n",
    "fmax = 2000\n",
    "pitch = torchcrepe.predict(torch.from_numpy(x).view((1, x.size)),sr,hop_length,fmin,fmax,'full',\n",
    "                           batch_size=2048,device=device).flatten()"
   ]
  },
  {
   "cell_type": "code",
   "execution_count": null,
   "id": "6b0515bb",
   "metadata": {},
   "outputs": [],
   "source": [
    "## TODO: Sonify pitch\n",
    "plt.plot(pitch)"
   ]
  },
  {
   "cell_type": "markdown",
   "id": "7377d32b",
   "metadata": {},
   "source": [
    "## Sonify Harmonics"
   ]
  },
  {
   "cell_type": "code",
   "execution_count": null,
   "id": "0439bdb7",
   "metadata": {},
   "outputs": [],
   "source": [
    "n_harmonics = 10\n",
    "C = torch.ones(1, sr, n_harmonics)\n",
    "freqs = torch.arange(1, n_harmonics+1).view(1, n_harmonics)\n",
    "times = torch.arange(sr).view(sr, 1)\n",
    "decay = np.exp(-freqs*times/sr)\n",
    "C = C*decay\n",
    "plt.imshow(C[0, :, :].T, aspect='auto', cmap='magma')\n",
    "plt.ylim([0, n_harmonics-1])"
   ]
  },
  {
   "cell_type": "code",
   "execution_count": null,
   "id": "792476f6",
   "metadata": {},
   "outputs": [],
   "source": [
    "## TODO: Sonify harmonics over time using torch.cos\n",
    "## Do it first using a loop if you must, then try it without a loop"
   ]
  },
  {
   "cell_type": "markdown",
   "id": "de6e20c8",
   "metadata": {},
   "source": [
    "## Applying Reverb"
   ]
  },
  {
   "cell_type": "code",
   "execution_count": null,
   "id": "10ac7b5d",
   "metadata": {},
   "outputs": [],
   "source": [
    "def fftconvolve(x, h):\n",
    "    \"\"\"\n",
    "    Perform a fast convolution of two tensors across their last axis\n",
    "    by using the FFT. Since the DFT assumes circularity, zeropad them \n",
    "    appropriately before doing the FFT and slice them down afterwards\n",
    "    \n",
    "    The last axis should be the same length, and the result will \n",
    "    be equivalent to np.convolve's 'same'\n",
    "    \n",
    "    Parameters\n",
    "    ----------\n",
    "    x: torch.tensor\n",
    "        First tensor\n",
    "    h: torch.tensor\n",
    "        Second tensor\n",
    "    \n",
    "    Returns\n",
    "    -------\n",
    "    Tensor resulting from the convolution of x and y across their last axis\n",
    "    \"\"\"\n",
    "    N = max(x.shape[-1], h.shape[-1])\n",
    "    if x.shape[-1] != h.shape[-1]:\n",
    "        # Zeropad so they're equal\n",
    "        if x.shape[-1] < N:\n",
    "            x = nn.functional.pad(x, (0, N-x.shape[-1]))\n",
    "        if h.shape[-1] < N:\n",
    "            h = nn.functional.pad(h, (0, N-h.shape[-1]))\n",
    "    x = nn.functional.pad(x, (0, N))\n",
    "    h = nn.functional.pad(h, (N, 0))\n",
    "    X = torch.fft.rfft(x)\n",
    "    H = torch.fft.rfft(h)\n",
    "    y = torch.fft.irfft(X*H)\n",
    "    return y[..., N::]"
   ]
  },
  {
   "cell_type": "code",
   "execution_count": null,
   "id": "130c882c",
   "metadata": {},
   "outputs": [],
   "source": [
    "x = torch.from_numpy(x)"
   ]
  },
  {
   "cell_type": "code",
   "execution_count": null,
   "id": "68f32ae5",
   "metadata": {},
   "outputs": [],
   "source": [
    "xlen = len(x)\n",
    "\n",
    "x = x.view(1, xlen, 1)\n",
    "\n",
    "h = torch.exp(-20*torch.arange(sr)/sr)"
   ]
  },
  {
   "cell_type": "code",
   "execution_count": null,
   "id": "8ea4351d",
   "metadata": {},
   "outputs": [],
   "source": []
  }
 ],
 "metadata": {
  "kernelspec": {
   "display_name": "Python 3 (ipykernel)",
   "language": "python",
   "name": "python3"
  },
  "language_info": {
   "codemirror_mode": {
    "name": "ipython",
    "version": 3
   },
   "file_extension": ".py",
   "mimetype": "text/x-python",
   "name": "python",
   "nbconvert_exporter": "python",
   "pygments_lexer": "ipython3",
   "version": "3.9.13"
  }
 },
 "nbformat": 4,
 "nbformat_minor": 5
}
